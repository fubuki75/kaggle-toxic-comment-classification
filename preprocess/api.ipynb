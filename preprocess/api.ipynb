{
 "cells": [
  {
   "cell_type": "markdown",
   "metadata": {},
   "source": [
    "## API"
   ]
  },
  {
   "cell_type": "code",
   "execution_count": 5,
   "metadata": {},
   "outputs": [],
   "source": [
    "import gradio as gr\n",
    "import torch\n",
    "from model import Bert,BertCNNv1,BertCNNv2\n",
    "from transformers import AutoTokenizer\n",
    "import pandas as pd\n",
    "import re"
   ]
  },
  {
   "cell_type": "code",
   "execution_count": 6,
   "metadata": {},
   "outputs": [],
   "source": [
    "def preprocess(text):\n",
    "    #去除首尾\"\n",
    "    text = text.strip('\"')\n",
    "    #去除utl\n",
    "    #text = BeautifulSoup(text).get_text()   \n",
    "    #print(text)\n",
    "    #去除网址\n",
    "    text = re.sub(r'(https|http)?:\\/\\/(\\w|\\.|\\/|\\?|\\=|\\&|\\%)*\\b(\\/\\S+)*',' ',text)\n",
    "    #去除某些没啥意义的符号\n",
    "    text = re.sub(r'[@|\\+\\[\\]]',' ',text)\n",
    "    text = re.sub(r'•',' ',text)\n",
    "    text = re.sub(r'={2,}|\\'{2,}|\\:{2,}|\\\"{2,}',' ',text)\n",
    "    #去除日期\n",
    "    text = re.sub(r'(\\d+:)?\\d+:\\d+,\\s?\\d+\\s?\\w+\\s?\\d{4}\\s\\(UTC\\)',' ',text)\n",
    "    text = re.sub(r'(\\d+:)?\\d+:\\d+,\\s?\\w+\\s?\\d+,\\s?\\d{4}\\s\\(UTC\\)',' ',text)    \n",
    "    #去除类似于ip地址一样的数字\n",
    "    text = re.sub(r'\\d+\\.\\d+\\.\\d+\\.\\d+',' ',text)   \n",
    "    return text"
   ]
  },
  {
   "cell_type": "code",
   "execution_count": 7,
   "metadata": {},
   "outputs": [],
   "source": [
    "def toxic_classification(text,kernel):\n",
    "    #kernel\n",
    "    if kernel=='Bert':\n",
    "        model = model1\n",
    "    elif kernel=='Bert-CNN':\n",
    "        model = model2\n",
    "    model.eval()\n",
    "    #prediction    \n",
    "    tokenizer = AutoTokenizer.from_pretrained('bert-base-cased')\n",
    "    \n",
    "    text = preprocess(text)\n",
    "    \n",
    "    encoded_text = tokenizer(text,\n",
    "                             padding = 'max_length',#不进行padding的话，比较短的文本没法卷积了\n",
    "                             truncation = True,\n",
    "                             max_length = 256, \n",
    "                             return_tensors = 'pt')\n",
    "    logits = model(encoded_text['input_ids'],encoded_text['attention_mask'],encoded_text['token_type_ids'])\n",
    "    logits=logits[0]\n",
    "    logits = torch.sigmoid(logits).detach().numpy().tolist()\n",
    "    logits = [format(round(x,4),'.2%') for x in logits]\n",
    "    return pd.DataFrame({'type':['toxic','severe_toxic','obscene','threat','insult','identity_hate'], 'confidence':logits})"
   ]
  },
  {
   "cell_type": "code",
   "execution_count": 8,
   "metadata": {},
   "outputs": [
    {
     "name": "stdout",
     "output_type": "stream",
     "text": [
      "loading best model from E:\\0kaggle\\model\\bert.bin\n"
     ]
    },
    {
     "name": "stderr",
     "output_type": "stream",
     "text": [
      "Some weights of the model checkpoint at bert-base-cased were not used when initializing BertModel: ['cls.predictions.transform.dense.bias', 'cls.predictions.transform.LayerNorm.weight', 'cls.seq_relationship.weight', 'cls.predictions.transform.dense.weight', 'cls.seq_relationship.bias', 'cls.predictions.transform.LayerNorm.bias', 'cls.predictions.bias', 'cls.predictions.decoder.weight']\n",
      "- This IS expected if you are initializing BertModel from the checkpoint of a model trained on another task or with another architecture (e.g. initializing a BertForSequenceClassification model from a BertForPreTraining model).\n",
      "- This IS NOT expected if you are initializing BertModel from the checkpoint of a model that you expect to be exactly identical (initializing a BertForSequenceClassification model from a BertForSequenceClassification model).\n"
     ]
    },
    {
     "name": "stdout",
     "output_type": "stream",
     "text": [
      "loading best model from E:\\0kaggle\\model\\bertCNN_v1.bin\n"
     ]
    },
    {
     "name": "stderr",
     "output_type": "stream",
     "text": [
      "Some weights of the model checkpoint at bert-base-cased were not used when initializing BertModel: ['cls.predictions.transform.dense.bias', 'cls.predictions.transform.LayerNorm.weight', 'cls.seq_relationship.weight', 'cls.predictions.transform.dense.weight', 'cls.seq_relationship.bias', 'cls.predictions.transform.LayerNorm.bias', 'cls.predictions.bias', 'cls.predictions.decoder.weight']\n",
      "- This IS expected if you are initializing BertModel from the checkpoint of a model trained on another task or with another architecture (e.g. initializing a BertForSequenceClassification model from a BertForPreTraining model).\n",
      "- This IS NOT expected if you are initializing BertModel from the checkpoint of a model that you expect to be exactly identical (initializing a BertForSequenceClassification model from a BertForSequenceClassification model).\n"
     ]
    },
    {
     "name": "stdout",
     "output_type": "stream",
     "text": [
      "Running on local URL:  http://127.0.0.1:7861/\n",
      "Running on public URL: https://48509.gradio.app\n",
      "\n",
      "This share link expires in 72 hours. For free permanent hosting, check out Spaces (https://huggingface.co/spaces)\n"
     ]
    },
    {
     "data": {
      "text/html": [
       "\n",
       "        <iframe\n",
       "            width=\"900\"\n",
       "            height=\"500\"\n",
       "            src=\"https://48509.gradio.app\"\n",
       "            frameborder=\"0\"\n",
       "            allowfullscreen\n",
       "        ></iframe>\n",
       "        "
      ],
      "text/plain": [
       "<IPython.lib.display.IFrame at 0x1c854193148>"
      ]
     },
     "metadata": {},
     "output_type": "display_data"
    },
    {
     "data": {
      "text/plain": [
       "(<fastapi.applications.FastAPI at 0x1c84161d748>,\n",
       " 'http://127.0.0.1:7861/',\n",
       " 'https://48509.gradio.app')"
      ]
     },
     "execution_count": 8,
     "metadata": {},
     "output_type": "execute_result"
    }
   ],
   "source": [
    "text=gr.inputs.Textbox(lines=7,label='Comment Text')  \n",
    "radio=gr.inputs.Radio(choices=['Bert','Bert-CNN'],type='value',default='Bert',label='Classifier Kernel')\n",
    "df=gr.outputs.Dataframe()\n",
    "model1 = Bert.load(r'E:\\0kaggle\\model\\bert.bin')\n",
    "model2 = BertCNNv1.load(r'E:\\0kaggle\\model\\bertCNN_v1.bin') \n",
    "interface = gr.Interface(fn=toxic_classification,\n",
    "                         inputs=[text,radio],outputs=df,\n",
    "                         examples=[\n",
    "                             [\"Hi! I am back again! Last warning! Stop undoing my edits or die!\",'Bert'],#toxic and threat\n",
    "                             [\"Why can't you believe how fat Artie is? Did you see him on his recent appearence on the Tonight Show with Jay Leno? He looks absolutely AWFUL! If I had to put money on it, I'd say that Artie Lange is a can't miss candidate for the 2007 Dead pool! Kindly keep your malicious fingers off of my above comment, . Everytime you remove it, I will repost it!!!\",'Bert'],#toxic\n",
    "                             [\"And it looks like it was actually you who put on the speedy to have the first version deleted now that I look at it.\",'Bert'],#正常\n",
    "                         ])\n",
    "interface.launch(share=True)"
   ]
  },
  {
   "cell_type": "markdown",
   "metadata": {},
   "source": [
    "## 实验"
   ]
  },
  {
   "cell_type": "code",
   "execution_count": 14,
   "metadata": {},
   "outputs": [],
   "source": [
    "def toxic_classification_2(text):\n",
    "    #kernel\n",
    "    model1.eval()\n",
    "    #prediction    \n",
    "    tokenizer = AutoTokenizer.from_pretrained('bert-base-cased')\n",
    "    \n",
    "    text = preprocess(text)\n",
    "    \n",
    "    encoded_text = tokenizer(text,\n",
    "                             padding = 'max_length',#不进行padding的话，比较短的文本没法卷积了\n",
    "                             truncation = True,\n",
    "                             max_length = 256, \n",
    "                             return_tensors = 'pt')\n",
    "    logits = model1(encoded_text['input_ids'],encoded_text['attention_mask'],encoded_text['token_type_ids'])\n",
    "    logits=logits[0]\n",
    "    logits = torch.sigmoid(logits).detach().numpy().tolist()\n",
    "    logits = [format(round(x,4),'.2%') for x in logits]\n",
    "    return pd.DataFrame({'type':['toxic','severe_toxic','obscene','threat','insult','identity_hate'], 'confidence':logits})"
   ]
  },
  {
   "cell_type": "code",
   "execution_count": 16,
   "metadata": {},
   "outputs": [
    {
     "name": "stdout",
     "output_type": "stream",
     "text": [
      "Wall time: 12.9 s\n"
     ]
    },
    {
     "data": {
      "text/html": [
       "<div>\n",
       "<style scoped>\n",
       "    .dataframe tbody tr th:only-of-type {\n",
       "        vertical-align: middle;\n",
       "    }\n",
       "\n",
       "    .dataframe tbody tr th {\n",
       "        vertical-align: top;\n",
       "    }\n",
       "\n",
       "    .dataframe thead th {\n",
       "        text-align: right;\n",
       "    }\n",
       "</style>\n",
       "<table border=\"1\" class=\"dataframe\">\n",
       "  <thead>\n",
       "    <tr style=\"text-align: right;\">\n",
       "      <th></th>\n",
       "      <th>type</th>\n",
       "      <th>confidence</th>\n",
       "    </tr>\n",
       "  </thead>\n",
       "  <tbody>\n",
       "    <tr>\n",
       "      <th>0</th>\n",
       "      <td>toxic</td>\n",
       "      <td>98.86%</td>\n",
       "    </tr>\n",
       "    <tr>\n",
       "      <th>1</th>\n",
       "      <td>severe_toxic</td>\n",
       "      <td>0.55%</td>\n",
       "    </tr>\n",
       "    <tr>\n",
       "      <th>2</th>\n",
       "      <td>obscene</td>\n",
       "      <td>2.06%</td>\n",
       "    </tr>\n",
       "    <tr>\n",
       "      <th>3</th>\n",
       "      <td>threat</td>\n",
       "      <td>74.48%</td>\n",
       "    </tr>\n",
       "    <tr>\n",
       "      <th>4</th>\n",
       "      <td>insult</td>\n",
       "      <td>5.18%</td>\n",
       "    </tr>\n",
       "    <tr>\n",
       "      <th>5</th>\n",
       "      <td>identity_hate</td>\n",
       "      <td>0.11%</td>\n",
       "    </tr>\n",
       "  </tbody>\n",
       "</table>\n",
       "</div>"
      ],
      "text/plain": [
       "            type confidence\n",
       "0          toxic     98.86%\n",
       "1   severe_toxic      0.55%\n",
       "2        obscene      2.06%\n",
       "3         threat     74.48%\n",
       "4         insult      5.18%\n",
       "5  identity_hate      0.11%"
      ]
     },
     "execution_count": 16,
     "metadata": {},
     "output_type": "execute_result"
    }
   ],
   "source": [
    "%%time\n",
    "example = \"Hi! I am back again! Last warning! Stop undoing my edits or die!\"\n",
    "toxic_classification_2(example)"
   ]
  },
  {
   "cell_type": "code",
   "execution_count": null,
   "metadata": {},
   "outputs": [],
   "source": []
  }
 ],
 "metadata": {
  "kernelspec": {
   "display_name": "Python 3",
   "language": "python",
   "name": "python3"
  },
  "language_info": {
   "codemirror_mode": {
    "name": "ipython",
    "version": 3
   },
   "file_extension": ".py",
   "mimetype": "text/x-python",
   "name": "python",
   "nbconvert_exporter": "python",
   "pygments_lexer": "ipython3",
   "version": "3.7.9"
  },
  "toc": {
   "base_numbering": 1,
   "nav_menu": {},
   "number_sections": true,
   "sideBar": true,
   "skip_h1_title": false,
   "title_cell": "Table of Contents",
   "title_sidebar": "Contents",
   "toc_cell": false,
   "toc_position": {},
   "toc_section_display": true,
   "toc_window_display": true
  }
 },
 "nbformat": 4,
 "nbformat_minor": 4
}
